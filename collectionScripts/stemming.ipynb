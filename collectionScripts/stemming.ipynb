{
 "cells": [
  {
   "cell_type": "code",
   "execution_count": 1,
   "id": "ef1475fa",
   "metadata": {},
   "outputs": [
    {
     "name": "stderr",
     "output_type": "stream",
     "text": [
      "[nltk_data] Downloading package punkt to\n",
      "[nltk_data]     /home/infres/bouharra/nltk_data...\n",
      "[nltk_data]   Package punkt is already up-to-date!\n",
      "[nltk_data] Downloading package stopwords to\n",
      "[nltk_data]     /home/infres/bouharra/nltk_data...\n",
      "[nltk_data]   Package stopwords is already up-to-date!\n"
     ]
    },
    {
     "data": {
      "text/plain": [
       "True"
      ]
     },
     "execution_count": 1,
     "metadata": {},
     "output_type": "execute_result"
    }
   ],
   "source": [
    "import pandas as pd\n",
    "import numpy as np\n",
    "import re\n",
    "import nltk\n",
    "import nltk.stem\n",
    "from nltk.tokenize import word_tokenize, sent_tokenize, PunktSentenceTokenizer\n",
    "from nltk.corpus import stopwords\n",
    "from string import punctuation\n",
    "from multiprocessing import Pool\n",
    "from tqdm import tqdm\n",
    "\n",
    "tqdm.pandas()\n",
    "\n",
    "nltk.download('punkt')\n",
    "nltk.download('stopwords')"
   ]
  },
  {
   "cell_type": "code",
   "execution_count": 2,
   "id": "7fd16606",
   "metadata": {},
   "outputs": [],
   "source": [
    "stop_words = set(stopwords.words('english'))\n",
    "\n",
    "stop_words.add(\"'s\")\n",
    "stop_words.add(\"'\")\n",
    "stop_words.add(\"-\")\n",
    "stop_words.add(\"'\")"
   ]
  },
  {
   "cell_type": "code",
   "execution_count": 3,
   "id": "e978afea",
   "metadata": {},
   "outputs": [],
   "source": [
    "df = pd.read_csv('data.csv')"
   ]
  },
  {
   "cell_type": "code",
   "execution_count": 4,
   "id": "71a4a93d",
   "metadata": {},
   "outputs": [
    {
     "data": {
      "text/html": [
       "<div>\n",
       "<style scoped>\n",
       "    .dataframe tbody tr th:only-of-type {\n",
       "        vertical-align: middle;\n",
       "    }\n",
       "\n",
       "    .dataframe tbody tr th {\n",
       "        vertical-align: top;\n",
       "    }\n",
       "\n",
       "    .dataframe thead th {\n",
       "        text-align: right;\n",
       "    }\n",
       "</style>\n",
       "<table border=\"1\" class=\"dataframe\">\n",
       "  <thead>\n",
       "    <tr style=\"text-align: right;\">\n",
       "      <th></th>\n",
       "      <th>title</th>\n",
       "      <th>description</th>\n",
       "      <th>channel</th>\n",
       "      <th>publishTime</th>\n",
       "      <th>tags</th>\n",
       "      <th>category</th>\n",
       "      <th>duration</th>\n",
       "      <th>commentNumber</th>\n",
       "      <th>likesNumber</th>\n",
       "      <th>views</th>\n",
       "      <th>...</th>\n",
       "      <th>quality</th>\n",
       "      <th>license</th>\n",
       "      <th>videoId</th>\n",
       "      <th>trendingTimes</th>\n",
       "      <th>trendingDuration</th>\n",
       "      <th>rawText</th>\n",
       "      <th>clean</th>\n",
       "      <th>wordCount</th>\n",
       "      <th>transDes</th>\n",
       "      <th>transText</th>\n",
       "    </tr>\n",
       "  </thead>\n",
       "  <tbody>\n",
       "    <tr>\n",
       "      <th>0</th>\n",
       "      <td>Aya Nakamura - Dégaine feat. Damso (Clip offic...</td>\n",
       "      <td>Nouveau single 'Dégaine' en featuring avec Dam...</td>\n",
       "      <td>Aya Nakamura</td>\n",
       "      <td>2022-03-09 16:00:02+00:00</td>\n",
       "      <td>[]</td>\n",
       "      <td>10</td>\n",
       "      <td>3:29</td>\n",
       "      <td>8548</td>\n",
       "      <td>330388</td>\n",
       "      <td>28553344</td>\n",
       "      <td>...</td>\n",
       "      <td>hd</td>\n",
       "      <td>1.0</td>\n",
       "      <td>7Lp9clJSB7E</td>\n",
       "      <td>8.0</td>\n",
       "      <td>7 days 00:00:00</td>\n",
       "      <td>J\"ai vu comment tu m'as regardée  mon charme a...</td>\n",
       "      <td>J\"ai vu comment tu m'as regardée mon charme fa...</td>\n",
       "      <td>451</td>\n",
       "      <td>New single 'Dégaine' featuring Damso available...</td>\n",
       "      <td>I saw how you looked at me my charm had its ef...</td>\n",
       "    </tr>\n",
       "    <tr>\n",
       "      <th>1</th>\n",
       "      <td>Aya Nakamura - Bobo (Clip officiel)</td>\n",
       "      <td>#tiktoksong #chilikuku #hmmhmm\\n\\nNouveau sing...</td>\n",
       "      <td>Aya Nakamura</td>\n",
       "      <td>2021-05-27 15:00:12+00:00</td>\n",
       "      <td>[]</td>\n",
       "      <td>10</td>\n",
       "      <td>3:14</td>\n",
       "      <td>13982</td>\n",
       "      <td>521150</td>\n",
       "      <td>50240770</td>\n",
       "      <td>...</td>\n",
       "      <td>hd</td>\n",
       "      <td>1.0</td>\n",
       "      <td>3zsPWw2H9PE</td>\n",
       "      <td>11.0</td>\n",
       "      <td>5 days 00:00:00</td>\n",
       "      <td>Chéri Coco fais-moi mmm mmm J’veux le bifton p...</td>\n",
       "      <td>Chéri Coco fais-moi mmm mmm J’veux le bifton p...</td>\n",
       "      <td>380</td>\n",
       "      <td>#tiktoksong #chilikuku #hmmhmm New single 'Bob...</td>\n",
       "      <td>Chéri Coco give me mmm mmm I want the bifton n...</td>\n",
       "    </tr>\n",
       "  </tbody>\n",
       "</table>\n",
       "<p>2 rows × 21 columns</p>\n",
       "</div>"
      ],
      "text/plain": [
       "                                               title  \\\n",
       "0  Aya Nakamura - Dégaine feat. Damso (Clip offic...   \n",
       "1                Aya Nakamura - Bobo (Clip officiel)   \n",
       "\n",
       "                                         description       channel  \\\n",
       "0  Nouveau single 'Dégaine' en featuring avec Dam...  Aya Nakamura   \n",
       "1  #tiktoksong #chilikuku #hmmhmm\\n\\nNouveau sing...  Aya Nakamura   \n",
       "\n",
       "                 publishTime tags  category duration  commentNumber  \\\n",
       "0  2022-03-09 16:00:02+00:00   []        10     3:29           8548   \n",
       "1  2021-05-27 15:00:12+00:00   []        10     3:14          13982   \n",
       "\n",
       "   likesNumber     views  ...  quality license      videoId trendingTimes  \\\n",
       "0       330388  28553344  ...       hd     1.0  7Lp9clJSB7E           8.0   \n",
       "1       521150  50240770  ...       hd     1.0  3zsPWw2H9PE          11.0   \n",
       "\n",
       "   trendingDuration                                            rawText  \\\n",
       "0   7 days 00:00:00  J\"ai vu comment tu m'as regardée  mon charme a...   \n",
       "1   5 days 00:00:00  Chéri Coco fais-moi mmm mmm J’veux le bifton p...   \n",
       "\n",
       "                                               clean wordCount  \\\n",
       "0  J\"ai vu comment tu m'as regardée mon charme fa...       451   \n",
       "1  Chéri Coco fais-moi mmm mmm J’veux le bifton p...       380   \n",
       "\n",
       "                                            transDes  \\\n",
       "0  New single 'Dégaine' featuring Damso available...   \n",
       "1  #tiktoksong #chilikuku #hmmhmm New single 'Bob...   \n",
       "\n",
       "                                           transText  \n",
       "0  I saw how you looked at me my charm had its ef...  \n",
       "1  Chéri Coco give me mmm mmm I want the bifton n...  \n",
       "\n",
       "[2 rows x 21 columns]"
      ]
     },
     "execution_count": 4,
     "metadata": {},
     "output_type": "execute_result"
    }
   ],
   "source": [
    "df.head(2)"
   ]
  },
  {
   "cell_type": "code",
   "execution_count": 5,
   "id": "045dd036",
   "metadata": {},
   "outputs": [],
   "source": [
    "df['transDes'] = df['transDes'].str.lower().map(lambda x: re.sub('\\W+',' ', x))\n",
    "df['transText'] = df['transText'].str.lower().map(lambda x: re.sub('\\W+',' ', x))"
   ]
  },
  {
   "cell_type": "code",
   "execution_count": 6,
   "id": "ab207f8c",
   "metadata": {},
   "outputs": [],
   "source": [
    "def tokenize(i):\n",
    "    return word_tokenize(df.transText[i]),word_tokenize(df.transDes[i]),i\n",
    "\n",
    "def noStop(x):\n",
    "    return [w for w in x if not w in stop_words and not w in punctuation]"
   ]
  },
  {
   "cell_type": "code",
   "execution_count": 7,
   "id": "fbbcba79",
   "metadata": {},
   "outputs": [],
   "source": [
    "tokenText = ['' for _ in range(len(df))]\n",
    "tokenDes = ['' for _ in range(len(df))]"
   ]
  },
  {
   "cell_type": "code",
   "execution_count": 8,
   "id": "b6eb3f63",
   "metadata": {},
   "outputs": [],
   "source": [
    "stemText = ['' for _ in range(len(df))]\n",
    "stemDes = ['' for _ in range(len(df))]"
   ]
  },
  {
   "cell_type": "code",
   "execution_count": 9,
   "id": "ab6085dc",
   "metadata": {},
   "outputs": [
    {
     "name": "stderr",
     "output_type": "stream",
     "text": [
      "100%|███████████████████████████████████| 11552/11552 [00:10<00:00, 1132.60it/s]\n"
     ]
    }
   ],
   "source": [
    "pool = Pool(processes=80)\n",
    "for t,d,i in tqdm(pool.imap(tokenize, df.index.tolist()), total=len(df)):\n",
    "    tokenDes[i] = d\n",
    "    tokenText[i] = t\n",
    "\n",
    "df['tokenDes'] = tokenDes\n",
    "df['tokenText'] = tokenText"
   ]
  },
  {
   "cell_type": "code",
   "execution_count": 10,
   "id": "dea9e895",
   "metadata": {},
   "outputs": [],
   "source": [
    "df['cleanText'] = df.tokenText.apply(noStop)\n",
    "df['cleanDes'] = df.tokenDes.apply(noStop)"
   ]
  },
  {
   "cell_type": "code",
   "execution_count": 11,
   "id": "31f97c04",
   "metadata": {},
   "outputs": [],
   "source": [
    "stemmer = nltk.stem.PorterStemmer()\n",
    "\n",
    "def stemming(speech):\n",
    "    return [format(stemmer.stem(token)) for token in speech]"
   ]
  },
  {
   "cell_type": "code",
   "execution_count": 12,
   "id": "5637bd73",
   "metadata": {},
   "outputs": [
    {
     "name": "stderr",
     "output_type": "stream",
     "text": [
      "100%|█████████████████████████████████████| 11552/11552 [07:07<00:00, 27.05it/s]\n",
      "100%|████████████████████████████████████| 11552/11552 [01:21<00:00, 141.02it/s]\n"
     ]
    }
   ],
   "source": [
    "df['stemsText'] = df['cleanText'].progress_apply(stemming)\n",
    "df['stemsDes'] = df['cleanDes'].progress_apply(stemming)"
   ]
  },
  {
   "cell_type": "code",
   "execution_count": 14,
   "id": "d114b0cc",
   "metadata": {},
   "outputs": [],
   "source": [
    "df.to_pickle('stemmed.pkl')"
   ]
  },
  {
   "cell_type": "code",
   "execution_count": null,
   "id": "38f17574",
   "metadata": {},
   "outputs": [],
   "source": []
  }
 ],
 "metadata": {
  "kernelspec": {
   "display_name": "Python 3 (ipykernel)",
   "language": "python",
   "name": "python3"
  },
  "language_info": {
   "codemirror_mode": {
    "name": "ipython",
    "version": 3
   },
   "file_extension": ".py",
   "mimetype": "text/x-python",
   "name": "python",
   "nbconvert_exporter": "python",
   "pygments_lexer": "ipython3",
   "version": "3.10.5"
  }
 },
 "nbformat": 4,
 "nbformat_minor": 5
}
